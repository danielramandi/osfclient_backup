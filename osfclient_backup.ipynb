{
 "cells": [
  {
   "cell_type": "markdown",
   "metadata": {},
   "source": [
    "![alt text](https://braincircuits.centreforbrainhealth.ca/sites/default/files/braincircuits_reverse_0.png)"
   ]
  },
  {
   "cell_type": "markdown",
   "metadata": {},
   "source": [
    "# BACKING UP ON OSF WITH OSFCLIENT"
   ]
  },
  {
   "cell_type": "markdown",
   "metadata": {},
   "source": [
    "This notebook outlines how to back up files to Open Science Framework (OSF) using the osfclient module. "
   ]
  },
  {
   "cell_type": "markdown",
   "metadata": {},
   "source": [
    "## Create archives"
   ]
  },
  {
   "cell_type": "markdown",
   "metadata": {},
   "source": [
    "Files on OSF cannot exceed 5GB. If you are archiving larger files/folders, they can be split into smaller archives in order to satisfy this requirement. \n",
    "\n",
    "Note: Files of exactly 5GB may fail to upload, so the safest option is to stay below the 5GB limit when creating archives."
   ]
  },
  {
   "cell_type": "markdown",
   "metadata": {},
   "source": [
    "#### Command-line \n",
    "This line can be used to create archives of 4GB\n",
    "\n",
    "tar -cvzf - /path/to/directory | split -b 4G - name.tar."
   ]
  },
  {
   "cell_type": "markdown",
   "metadata": {},
   "source": [
    "#### Programs for macOS and Windows \n",
    "Information about programs that facilitate splitting archives without using command line tools can be found here:\n",
    "https://osf.io/knzp8/?view_only=9bed8f05f8a7412abc26d2d4b737fc6b"
   ]
  },
  {
   "cell_type": "markdown",
   "metadata": {},
   "source": [
    "## Install osfclient in Jupyter Notebook"
   ]
  },
  {
   "cell_type": "markdown",
   "metadata": {},
   "source": [
    "Once your files are within the size limit, osfclient can be installed in Jupyter Notebook in order to upload to OSF. "
   ]
  },
  {
   "cell_type": "code",
   "execution_count": null,
   "metadata": {},
   "outputs": [],
   "source": [
    "!pip install --user git+https://github.com/ubcbraincircuits/osfclient"
   ]
  },
  {
   "cell_type": "code",
   "execution_count": null,
   "metadata": {},
   "outputs": [],
   "source": [
    "import osfclient\n",
    "from osfclient import cli\n",
    "import os"
   ]
  },
  {
   "cell_type": "code",
   "execution_count": null,
   "metadata": {},
   "outputs": [],
   "source": [
    "osf = osfclient.OSF()"
   ]
  },
  {
   "cell_type": "code",
   "execution_count": null,
   "metadata": {},
   "outputs": [],
   "source": [
    "os.environ[\"OSF_PASSWORD\"] = \"\" #insert your OSF password as a string"
   ]
  },
  {
   "cell_type": "code",
   "execution_count": null,
   "metadata": {},
   "outputs": [],
   "source": [
    "class args:\n",
    "\n",
    "    def __init__(self, project, username=None, update=False, force=False, destination=None, source=None, recursive=False, target=None, output=None, remote=None, local=None):\n",
    "        self.project = project\n",
    "        self.username = username\n",
    "        self.update = update # applies to upload, clone, and fetch\n",
    "        self.force = force # applies to fetch and upload \n",
    "        # upload arguments:\n",
    "        self.destination = destination\n",
    "        self.source = source\n",
    "        self.recursive = recursive\n",
    "        # remove argument:\n",
    "        self.target = target\n",
    "        # clone argument:\n",
    "        self.output = output\n",
    "        # fetch arguments:\n",
    "        self.remote = remote\n",
    "        self.local = local\n"
   ]
  },
  {
   "cell_type": "markdown",
   "metadata": {},
   "source": [
    "The project GUID is the 5-character string following the slash in the project URL (i.e., https://osf.io/XXXXX/)"
   ]
  },
  {
   "cell_type": "code",
   "execution_count": null,
   "metadata": {},
   "outputs": [],
   "source": [
    "arguments = args(\n",
    "    username='', #insert your OSF username \n",
    "    project='', # insert your project GUID \n",
    "    # upload arguments:\n",
    "    destination='', \n",
    "    source='',\n",
    "    # remove argument:\n",
    "    target='',\n",
    "    # clone argument:\n",
    "    output='',\n",
    "    # fetch arguments:\n",
    "    remote='',\n",
    "    local=''\n",
    ")"
   ]
  },
  {
   "cell_type": "markdown",
   "metadata": {},
   "source": [
    "## Upload a single file to OSF"
   ]
  },
  {
   "cell_type": "code",
   "execution_count": null,
   "metadata": {},
   "outputs": [],
   "source": [
    "arguments.source = '\\\\Users\\\\User\\\\filename' # insert path to file "
   ]
  },
  {
   "cell_type": "code",
   "execution_count": null,
   "metadata": {},
   "outputs": [],
   "source": [
    "arguments.destination = 'folder\\\\filename' # indicate the name of the OSF folder as the first part of the path"
   ]
  },
  {
   "cell_type": "code",
   "execution_count": null,
   "metadata": {},
   "outputs": [],
   "source": [
    "cli.upload(arguments)"
   ]
  },
  {
   "cell_type": "markdown",
   "metadata": {},
   "source": [
    "## Upload a directory to OSF "
   ]
  },
  {
   "cell_type": "code",
   "execution_count": null,
   "metadata": {},
   "outputs": [],
   "source": [
    "arguments.recursive = True"
   ]
  },
  {
   "cell_type": "code",
   "execution_count": null,
   "metadata": {},
   "outputs": [],
   "source": [
    "arguments.source = \"\\\\Users\\\\User\\\\directory\" # creates a folder with the name of the local directory "
   ]
  },
  {
   "cell_type": "code",
   "execution_count": null,
   "metadata": {},
   "outputs": [],
   "source": [
    "arguments.destination = \"\" # empty string indicates OSF storage "
   ]
  },
  {
   "cell_type": "code",
   "execution_count": null,
   "metadata": {},
   "outputs": [],
   "source": [
    "cli.upload(arguments)"
   ]
  }
 ],
 "metadata": {
  "kernelspec": {
   "display_name": "Python 3",
   "language": "python",
   "name": "python3"
  },
  "language_info": {
   "codemirror_mode": {
    "name": "ipython",
    "version": 3
   },
   "file_extension": ".py",
   "mimetype": "text/x-python",
   "name": "python",
   "nbconvert_exporter": "python",
   "pygments_lexer": "ipython3",
   "version": "3.7.4"
  }
 },
 "nbformat": 4,
 "nbformat_minor": 2
}
